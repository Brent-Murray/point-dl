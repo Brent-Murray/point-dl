{
 "cells": [
  {
   "cell_type": "code",
   "execution_count": null,
   "id": "23fae3c0-ae94-4532-bdfc-9493495d7a18",
   "metadata": {},
   "outputs": [],
   "source": [
    "def plot_classification_report(cr, title=None, with_avg_total=False, cmap=\"Blues\"):\n",
    "\n",
    "    lines = cr.split(\"\\n\")\n",
    "\n",
    "    classes = []\n",
    "    plotMat = []\n",
    "    for line in lines[2 : (len(lines) - 3)]:\n",
    "        # print(line)\n",
    "        t = line.split()\n",
    "        # print(t)\n",
    "        classes.append(t[0])\n",
    "        v = [float(x) for x in t[1 : len(t) - 1]]\n",
    "        print(v)\n",
    "        plotMat.append(v)\n",
    "\n",
    "    if with_avg_total:\n",
    "        aveTotal = lines[len(lines) - 1].split()\n",
    "        classes.append(\"avg/total\")\n",
    "        vAveTotal = [float(x) for x in t[1 : len(aveTotal) - 1]]\n",
    "        plotMat.append(vAveTotal)\n",
    "\n",
    "    plt.imshow(plotMat, interpolation=\"nearest\", cmap=cmap)\n",
    "    if title:\n",
    "        plt.title(title)\n",
    "    plt.colorbar()\n",
    "    x_tick_marks = np.arange(3)\n",
    "    y_tick_marks = np.arange(len(classes))\n",
    "    plt.xticks(x_tick_marks, [\"precision\", \"recall\", \"f1-score\"], rotation=45)\n",
    "    plt.yticks(y_tick_marks, classes)\n",
    "    plt.tight_layout()\n",
    "    plt.ylabel(\"Classes\")\n",
    "    plt.xlabel(\"Measures\")"
   ]
  }
 ],
 "metadata": {
  "kernelspec": {
   "display_name": "PyTorch Python 3.9",
   "language": "python",
   "name": "pytorch"
  },
  "language_info": {
   "codemirror_mode": {
    "name": "ipython",
    "version": 3
   },
   "file_extension": ".py",
   "mimetype": "text/x-python",
   "name": "python",
   "nbconvert_exporter": "python",
   "pygments_lexer": "ipython3",
   "version": "3.9.12"
  }
 },
 "nbformat": 4,
 "nbformat_minor": 5
}
