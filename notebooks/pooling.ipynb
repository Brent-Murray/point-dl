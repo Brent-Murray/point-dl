{
 "cells": [
  {
   "cell_type": "code",
   "execution_count": null,
   "id": "02142e5a-6168-4127-bd7e-a53486bf8896",
   "metadata": {},
   "outputs": [],
   "source": [
    "import torch\n",
    "import torch.nn as nn\n",
    "import torch.nn.functional as F"
   ]
  },
  {
   "cell_type": "code",
   "execution_count": null,
   "id": "e193e659-81e2-4e18-8d2f-d092d9d88169",
   "metadata": {
    "tags": []
   },
   "outputs": [],
   "source": [
    "class Pooling(torch.nn.Module):\n",
    "    def __init__(self, pool_type=\"max\"):\n",
    "        self.pool_type = pool_type\n",
    "        super(Pooling, self).__init__()\n",
    "\n",
    "    def forward(self, input):\n",
    "        if self.pool_type == \"max\":\n",
    "            return torch.max(input, 2)[0].contiguous()\n",
    "        elif self.pool_type == \"avg\" or self.pool_type == \"average\":\n",
    "            return torhc.mean(input, 2).contiguous"
   ]
  }
 ],
 "metadata": {
  "kernelspec": {
   "display_name": "PyTorch Python 3.9",
   "language": "python",
   "name": "pytorch"
  },
  "language_info": {
   "codemirror_mode": {
    "name": "ipython",
    "version": 3
   },
   "file_extension": ".py",
   "mimetype": "text/x-python",
   "name": "python",
   "nbconvert_exporter": "python",
   "pygments_lexer": "ipython3",
   "version": "3.9.12"
  }
 },
 "nbformat": 4,
 "nbformat_minor": 5
}
