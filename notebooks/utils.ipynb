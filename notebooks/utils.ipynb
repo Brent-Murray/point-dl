{
 "cells": [
  {
   "cell_type": "code",
   "execution_count": 1,
   "id": "01568edc-5639-42bd-9ca1-0574a103c0ad",
   "metadata": {
    "execution": {
     "iopub.execute_input": "2022-05-30T21:59:33.368003Z",
     "iopub.status.busy": "2022-05-30T21:59:33.368003Z",
     "iopub.status.idle": "2022-05-30T21:59:33.554646Z",
     "shell.execute_reply": "2022-05-30T21:59:33.553645Z",
     "shell.execute_reply.started": "2022-05-30T21:59:33.368003Z"
    }
   },
   "outputs": [],
   "source": [
    "import glob\n",
    "import os\n",
    "import shutil\n",
    "from datetime import datetime\n",
    "\n",
    "import laspy\n",
    "import numpy as np"
   ]
  },
  {
   "cell_type": "code",
   "execution_count": null,
   "id": "0af50af1-f9e5-4be7-bba6-0a27e390a926",
   "metadata": {},
   "outputs": [],
   "source": [
    "def folder_structure(directory, project):\n",
    "    \"\"\"\n",
    "    Creates the folder structure and base README.txt file for a new project.\n",
    "\n",
    "    Parameters:\n",
    "        directory: string\n",
    "            The main directory for where folder structure will be created.\n",
    "        project: string\n",
    "            The project name\n",
    "    \"\"\"\n",
    "    # Create Folder Structure\n",
    "    folders = [\"code\", \"input\", \"output\", \"config\", \"notebooks\"]  # Folders to create\n",
    "    for f in folders:\n",
    "        path = os.path.join(directory, project, f)  # Define folder path\n",
    "        try:\n",
    "            os.makedirs(path)  # Create folder\n",
    "            print(\"Directory '%s' created\" % path)\n",
    "        except OSError as error:  # Except if OSError occurs\n",
    "            print(\"Directory '%s' cannot be created\" % path)\n",
    "\n",
    "    # Create README.txt\n",
    "    rm = os.path.join(directory, project, \"README.txt\")  # Define README.txt path\n",
    "    with open(rm, \"w+\") as f:  # Write lines to README.txt file\n",
    "        f.write(\n",
    "            project\n",
    "            + \"\\n\\nCreated: \"\n",
    "            + datetime.now().strftime(\"%m/%d/%Y\")\n",
    "            + \"\"\"\n",
    "            \n",
    "Short Description:\n",
    "        \n",
    "Long Description:\n",
    "        \n",
    "Authors:\n",
    "    A.\n",
    "        Name: Brent Murray\n",
    "        Institution: University of British Columbia\n",
    "        ORCID: 0000-0003-3050-9448\n",
    "        Email: brntmrry@mail.ubc.ca\n",
    "        \n",
    "Data & File Overview:\n",
    "    +---code\n",
    "    |\n",
    "    +---config\n",
    "    |\n",
    "    +---input\n",
    "    |\n",
    "    +---notebooks\n",
    "    |\n",
    "    +---output\n",
    "    |\n",
    "    README.txt\n",
    "    requirments.txt\"\"\"\n",
    "        )\n",
    "        f.close()\n",
    "    print(\"'%s' created\" % rm)"
   ]
  },
  {
   "cell_type": "code",
   "execution_count": 36,
   "id": "a2c5fb2f-640f-4cbb-a127-7dbc6baccf2f",
   "metadata": {
    "execution": {
     "iopub.execute_input": "2022-05-30T22:38:39.219806Z",
     "iopub.status.busy": "2022-05-30T22:38:39.219806Z",
     "iopub.status.idle": "2022-05-30T22:38:39.229762Z",
     "shell.execute_reply": "2022-05-30T22:38:39.228766Z",
     "shell.execute_reply.started": "2022-05-30T22:38:39.219806Z"
    },
    "tags": []
   },
   "outputs": [],
   "source": [
    "def load_las(filename, relevant_headers=[]):\n",
    "    # Output headers\n",
    "    output_headers = [\"x\", \"y\", \"z\"]\n",
    "\n",
    "    # Open las/laz file\n",
    "    file_ext = filename[-4:]  # Last 4 characters in filename\n",
    "    if (\n",
    "        file_ext == \".las\" or file_extension == \".laz\"\n",
    "    ):  # If file extension is either .las or .laz\n",
    "        try:\n",
    "            las = laspy.read(filename)  # Try opening file\n",
    "        except FileNotFoundError:\n",
    "            print(filename, \"Not Found\")\n",
    "\n",
    "        # Get header\n",
    "        header = list(las.point_format.dimension_names)\n",
    "\n",
    "        # Create numpy pointcloud\n",
    "        pointcloud = np.vstack(\n",
    "            (las.x, las.y, las.z)\n",
    "        )  # Vertical stack of pointcloud x, y & z\n",
    "\n",
    "        # Add relevant headers to pointcloud\n",
    "        if len(relevant_headers) != 0:\n",
    "            for h in relevant_headers:\n",
    "                if h in header:\n",
    "                    pointcloud = np.vstack(\n",
    "                        (pointcloud, getattr(las, h))\n",
    "                    )  # Add relevant headers to pointcloud\n",
    "                    output_headers.append(h)  # Update output header\n",
    "\n",
    "        # Transpose pointcloud values\n",
    "        pointcloud = pointcloud.transpose()\n",
    "\n",
    "    return pointcloud, output_headers"
   ]
  }
 ],
 "metadata": {
  "kernelspec": {
   "display_name": "TensorFlow Python 3.9",
   "language": "python",
   "name": "tf"
  },
  "language_info": {
   "codemirror_mode": {
    "name": "ipython",
    "version": 3
   },
   "file_extension": ".py",
   "mimetype": "text/x-python",
   "name": "python",
   "nbconvert_exporter": "python",
   "pygments_lexer": "ipython3",
   "version": "3.9.12"
  }
 },
 "nbformat": 4,
 "nbformat_minor": 5
}
