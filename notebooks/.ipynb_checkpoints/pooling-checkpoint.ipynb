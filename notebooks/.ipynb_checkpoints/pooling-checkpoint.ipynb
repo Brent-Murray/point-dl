{
 "cells": [
  {
   "cell_type": "code",
   "execution_count": 1,
   "id": "02142e5a-6168-4127-bd7e-a53486bf8896",
   "metadata": {
    "execution": {
     "iopub.execute_input": "2022-06-06T18:27:06.351955Z",
     "iopub.status.busy": "2022-06-06T18:27:06.351955Z",
     "iopub.status.idle": "2022-06-06T18:27:07.255251Z",
     "shell.execute_reply": "2022-06-06T18:27:07.254205Z",
     "shell.execute_reply.started": "2022-06-06T18:27:06.351955Z"
    }
   },
   "outputs": [],
   "source": [
    "import torch\n",
    "import torch.nn as nn\n",
    "import torch.nn.functional as F"
   ]
  },
  {
   "cell_type": "code",
   "execution_count": 2,
   "id": "e193e659-81e2-4e18-8d2f-d092d9d88169",
   "metadata": {
    "execution": {
     "iopub.execute_input": "2022-06-06T18:29:02.595082Z",
     "iopub.status.busy": "2022-06-06T18:29:02.595082Z",
     "iopub.status.idle": "2022-06-06T18:29:02.614995Z",
     "shell.execute_reply": "2022-06-06T18:29:02.614000Z",
     "shell.execute_reply.started": "2022-06-06T18:29:02.595082Z"
    }
   },
   "outputs": [
    {
     "ename": "IndentationError",
     "evalue": "expected an indented block (3071422251.py, line 7)",
     "output_type": "error",
     "traceback": [
      "\u001b[1;36m  Input \u001b[1;32mIn [2]\u001b[1;36m\u001b[0m\n\u001b[1;33m    if self.pool_type == 'max':\u001b[0m\n\u001b[1;37m                               ^\u001b[0m\n\u001b[1;31mIndentationError\u001b[0m\u001b[1;31m:\u001b[0m expected an indented block\n"
     ]
    }
   ],
   "source": [
    "class Pooling(torch.nnModule):\n",
    "    def __init__(self, pool_type=\"max\"):\n",
    "        self.pool_type = pool_type\n",
    "        super(Pooling, self).__init__()\n",
    "        \n",
    "    def forward(self, input):\n",
    "        if self.pool_type == 'max':\n",
    "            return torch.max(input, 2)[0].contiguous()\n",
    "        elif self.pool_type == 'avg' or self.pool_type == 'average':\n",
    "            return torhc.mean(input, 2).contiguous"
   ]
  },
  {
   "cell_type": "code",
   "execution_count": null,
   "id": "b62f293a-6550-4034-8f6e-000d235cdbb3",
   "metadata": {},
   "outputs": [],
   "source": []
  }
 ],
 "metadata": {
  "kernelspec": {
   "display_name": "PyTorch Python 3.9",
   "language": "python",
   "name": "pytorch"
  },
  "language_info": {
   "codemirror_mode": {
    "name": "ipython",
    "version": 3
   },
   "file_extension": ".py",
   "mimetype": "text/x-python",
   "name": "python",
   "nbconvert_exporter": "python",
   "pygments_lexer": "ipython3",
   "version": "3.9.12"
  }
 },
 "nbformat": 4,
 "nbformat_minor": 5
}
