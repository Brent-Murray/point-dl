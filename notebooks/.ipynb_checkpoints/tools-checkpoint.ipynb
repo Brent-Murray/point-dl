{
 "cells": [
  {
   "cell_type": "code",
   "execution_count": 1,
   "id": "01568edc-5639-42bd-9ca1-0574a103c0ad",
   "metadata": {
    "execution": {
     "iopub.execute_input": "2022-06-06T20:50:59.000092Z",
     "iopub.status.busy": "2022-06-06T20:50:59.000092Z",
     "iopub.status.idle": "2022-06-06T20:51:01.156902Z",
     "shell.execute_reply": "2022-06-06T20:51:01.155897Z",
     "shell.execute_reply.started": "2022-06-06T20:50:59.000092Z"
    },
    "tags": []
   },
   "outputs": [],
   "source": [
    "import glob\n",
    "import os\n",
    "from datetime import datetime\n",
    "from pathlib import Path\n",
    "\n",
    "import laspy\n",
    "import numpy as np\n",
    "import torch\n",
    "from torch_geometric.data import Data, InMemoryDataset"
   ]
  },
  {
   "cell_type": "code",
   "execution_count": 2,
   "id": "d8221a35-5123-4be6-bd92-171da8fd07b0",
   "metadata": {
    "execution": {
     "iopub.execute_input": "2022-06-06T20:51:01.173033Z",
     "iopub.status.busy": "2022-06-06T20:51:01.172037Z",
     "iopub.status.idle": "2022-06-06T20:51:01.188085Z",
     "shell.execute_reply": "2022-06-06T20:51:01.187126Z",
     "shell.execute_reply.started": "2022-06-06T20:51:01.173033Z"
    }
   },
   "outputs": [],
   "source": [
    "def folder_structure():\n",
    "    # Create folder structure\n",
    "    folders = [\"model\", \"results\"]\n",
    "    for f in folders:\n",
    "        try:\n",
    "            os.makedirs(f\"./output/{f}\")\n",
    "            print(f\"Directory {f} created\")\n",
    "        except OSError as error:\n",
    "            print(f\"Directory {f} cannot be created or is already created\")"
   ]
  },
  {
   "cell_type": "code",
   "execution_count": 3,
   "id": "de2688cd-9a2d-4482-abe8-d3a67909d903",
   "metadata": {
    "execution": {
     "iopub.execute_input": "2022-06-06T20:51:01.190075Z",
     "iopub.status.busy": "2022-06-06T20:51:01.190075Z",
     "iopub.status.idle": "2022-06-06T20:51:01.202347Z",
     "shell.execute_reply": "2022-06-06T20:51:01.202347Z",
     "shell.execute_reply.started": "2022-06-06T20:51:01.190075Z"
    },
    "tags": []
   },
   "outputs": [],
   "source": [
    "def read_las(pointcloudfile, get_attributes=False, useevery=1):\n",
    "    \"\"\"\n",
    "    :param pointcloudfile: specification of input file (format: las or laz)\n",
    "    :param get_attributes: if True, will return all attributes in file, otherwise will only return XYZ (default is False)\n",
    "    :param useevery: value specifies every n-th point to use from input, i.e. simple subsampling (default is 1, i.e. returning every point)\n",
    "    :return: 3D array of points (x,y,z) of length number of points in input file (or subsampled by 'useevery')\n",
    "    \"\"\"\n",
    "\n",
    "    # Read file\n",
    "    inFile = laspy.read(pointcloudfile)\n",
    "\n",
    "    # Get coordinates (XYZ)\n",
    "    coords = np.vstack((inFile.x, inFile.y, inFile.z)).transpose()\n",
    "    coords = coords[::useevery, :]\n",
    "\n",
    "    # Return coordinates only\n",
    "    if get_attributes == False:\n",
    "        return coords\n",
    "\n",
    "    # Return coordinates and attributes\n",
    "    else:\n",
    "        las_fields = [info.name for info in inFile.points.point_format.dimensions]\n",
    "        attributes = {}\n",
    "        for las_field in las_fields[3:]:  # skip the X,Y,Z fields\n",
    "            attributes[las_field] = inFile.points[las_field][::useevery]\n",
    "        return (coords, attributes)"
   ]
  },
  {
   "cell_type": "code",
   "execution_count": null,
   "id": "ccebc8a4-26c2-4e7e-b2d1-34ceb9fb8c40",
   "metadata": {
    "tags": []
   },
   "outputs": [],
   "source": [
    "class PointCloudsInFiles(InMemoryDataset):\n",
    "    \"\"\"Point cloud dataset where one data point is a file.\"\"\"\n",
    "\n",
    "    def __init__(\n",
    "        self, root_dir, glob=\"*\", column_name=\"\", max_points=200_000, use_columns=None\n",
    "    ):\n",
    "        \"\"\"\n",
    "        Args:\n",
    "            root_dir (string): Directory with the datasets\n",
    "            glob (string): Glob string passed to pathlib.Path.glob\n",
    "            column_name (string): Column name to use as target variable (e.g. \"Classification\")\n",
    "            use_columns (list[string]): Column names to add as additional input\n",
    "        \"\"\"\n",
    "        self.files = list(Path(root_dir).glob(glob))\n",
    "        self.column_name = column_name\n",
    "        self.max_points = max_points\n",
    "        if use_columns is None:\n",
    "            use_columns = []\n",
    "        self.use_columns = use_columns\n",
    "        super().__init__()\n",
    "\n",
    "    def __len__(self):\n",
    "        return len(self.files)\n",
    "\n",
    "    def __getitem__(self, idx):\n",
    "        if torch.is_tensor(idx):\n",
    "            idx = idx.tolist()\n",
    "\n",
    "        filename = str(self.files[idx])\n",
    "        coords, attrs = read_las(filename, get_attributes=True)\n",
    "        if coords.shape[0] >= self.max_points:\n",
    "            use_idx = np.random.choice(coords.shape[0], self.max_points, replace=False)\n",
    "        else:\n",
    "            use_idx = np.random.choice(coords.shape[0], self.max_points, replace=True)\n",
    "        if len(self.use_columns) > 0:\n",
    "            x = np.empty((self.max_points, len(self.use_columns)), np.float32)\n",
    "            for eix, entry in enumerate(self.use_columns):\n",
    "                x[:, eix] = attrs[entry][use_idx]\n",
    "        else:\n",
    "            x = coords[use_idx, :]\n",
    "        coords = coords - np.mean(coords, axis=0)  # centralize coordinates\n",
    "\n",
    "        # impute target\n",
    "        target = attrs[self.column_name]\n",
    "        target[np.isnan(target)] = np.nanmean(target)\n",
    "\n",
    "        sample = Data(\n",
    "            x=torch.from_numpy(x).float(),\n",
    "            y=torch.from_numpy(\n",
    "                np.unique(np.array(target[use_idx][:, np.newaxis]))\n",
    "            ).type(torch.LongTensor),\n",
    "            pos=torch.from_numpy(coords[use_idx, :]).float(),\n",
    "        )\n",
    "        if coords.shape[0] < 100:\n",
    "            return None\n",
    "        return sample"
   ]
  },
  {
   "cell_type": "code",
   "execution_count": null,
   "id": "5a3dff41-c653-459f-bc11-32ae8baa536e",
   "metadata": {},
   "outputs": [],
   "source": []
  }
 ],
 "metadata": {
  "kernelspec": {
   "display_name": "PyTorch Python 3.9",
   "language": "python",
   "name": "pytorch"
  },
  "language_info": {
   "codemirror_mode": {
    "name": "ipython",
    "version": 3
   },
   "file_extension": ".py",
   "mimetype": "text/x-python",
   "name": "python",
   "nbconvert_exporter": "python",
   "pygments_lexer": "ipython3",
   "version": "3.9.12"
  }
 },
 "nbformat": 4,
 "nbformat_minor": 5
}
